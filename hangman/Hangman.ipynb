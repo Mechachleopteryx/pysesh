{
 "cells": [
  {
   "cell_type": "markdown",
   "metadata": {},
   "source": [
    "# Hangman\n",
    "\n",
    "\n",
    "In this script we will try to create a game of hangman. Below is a very simple boilerplate. There isn't just one way of doing this. This can be done with for loops and if statements.\n",
    "\n",
    "\n",
    "The game that you will create should:\n",
    "\n",
    "- pick a random word from the techmodal mission statement\n",
    "- hide the word with underscores: test -> ' _ _ _ _ '\n",
    "- let you pick a letter\n",
    "- if the leter is there, dont hide it with an underscore\n",
    "- show previously guessed letters\n",
    "\n",
    "optional:\n",
    "\n",
    "- allow max 10 tries\n",
    "- dont allow input of more than one letter"
   ]
  },
  {
   "cell_type": "code",
   "execution_count": 2,
   "metadata": {},
   "outputs": [
    {
     "name": "stdout",
     "output_type": "stream",
     "text": [
      "['mission', 'techmodal', 'maintain', 'outstanding', 'reputation', 'delivering', 'high', 'quality', 'tools', 'that', 'enablers', 'customers', 'operational', 'strategic', 'decisions', 'continuing', 'employ', 'develop', 'high', 'calibre', 'individuals', 'that', 'capable', 'delivering', 'quality', 'service', 'customers']\n",
      "\n",
      "Enter your guess letter:a\n"
     ]
    }
   ],
   "source": [
    "TECHMODAL_MISSION_STATEMENT = \"\"\"\n",
    "The mission of Techmodal is to maintain its outstanding\n",
    "reputation in delivering high quality tools that are key \n",
    "enablers in our customers operational and strategic\n",
    "decisions Continuing to employ and develop high calibre\n",
    "individuals that are capable of delivering a quality\n",
    "service to our customers\n",
    "\"\"\"\n",
    "\n",
    "\n",
    "word_list = TECHMODAL_MISSION_STATEMENT.split()\n",
    "word_list = [x.lower() for x in word_list if len(x) >= 4] # filter for words with 4 letters or more\n",
    "\n",
    "print(word_list)\n",
    "print()\n",
    "\n",
    "word = 'test'\n",
    "guessed_letter = input('Enter your guess letter:')\n",
    "if guessed_letter in word:\n",
    "    print(\"yes, \" + guessed_letter + \"is in the word\")"
   ]
  },
  {
   "cell_type": "code",
   "execution_count": null,
   "metadata": {},
   "outputs": [],
   "source": []
  }
 ],
 "metadata": {
  "kernelspec": {
   "display_name": "Python 3",
   "language": "python",
   "name": "python3"
  },
  "language_info": {
   "codemirror_mode": {
    "name": "ipython",
    "version": 3
   },
   "file_extension": ".py",
   "mimetype": "text/x-python",
   "name": "python",
   "nbconvert_exporter": "python",
   "pygments_lexer": "ipython3",
   "version": "3.7.3"
  }
 },
 "nbformat": 4,
 "nbformat_minor": 2
}
